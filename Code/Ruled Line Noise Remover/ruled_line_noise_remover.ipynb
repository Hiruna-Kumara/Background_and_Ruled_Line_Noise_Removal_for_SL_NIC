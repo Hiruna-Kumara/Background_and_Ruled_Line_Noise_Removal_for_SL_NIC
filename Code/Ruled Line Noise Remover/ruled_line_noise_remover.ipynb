{
  "nbformat": 4,
  "nbformat_minor": 0,
  "metadata": {
    "colab": {
      "name": "ruled_line_noise_remover.ipynb",
      "provenance": [],
      "collapsed_sections": [],
      "authorship_tag": "ABX9TyNPCodkfMIFnbdgULzvoRj2",
      "include_colab_link": true
    },
    "kernelspec": {
      "name": "python3",
      "display_name": "Python 3"
    },
    "language_info": {
      "name": "python"
    }
  },
  "cells": [
    {
      "cell_type": "markdown",
      "metadata": {
        "id": "view-in-github",
        "colab_type": "text"
      },
      "source": [
        "<a href=\"https://colab.research.google.com/github/Hiruna-Kumara/Background_and_Ruled_Line_Noise_Removal_for_SL_NIC/blob/main/Code/Ruled%20Line%20Noise%20Remover/ruled_line_noise_remover.ipynb\" target=\"_parent\"><img src=\"https://colab.research.google.com/assets/colab-badge.svg\" alt=\"Open In Colab\"/></a>"
      ]
    },
    {
      "cell_type": "code",
      "source": [
        "from google.colab import drive\n",
        "drive.mount('/content/drive')"
      ],
      "metadata": {
        "colab": {
          "base_uri": "https://localhost:8080/"
        },
        "id": "Arad3aoJQCPJ",
        "outputId": "8dedc19d-56f5-478a-e0c9-d6c7494b5ad9"
      },
      "execution_count": null,
      "outputs": [
        {
          "output_type": "stream",
          "name": "stdout",
          "text": [
            "Mounted at /content/drive\n"
          ]
        }
      ]
    },
    {
      "cell_type": "code",
      "metadata": {
        "id": "3nOwC2PNqMOl"
      },
      "source": [
        "import numpy as np\n",
        "import sys\n",
        "import cv2 as cv\n",
        "import PIL\n",
        "from PIL import Image\n",
        "\n",
        "from google.colab.patches import cv2_imshow"
      ],
      "execution_count": null,
      "outputs": []
    },
    {
      "cell_type": "code",
      "source": [
        "def show_wait_destroy_old(winname, img):\n",
        "    cv.imshow(winname, img)\n",
        "    cv.moveWindow(winname, 500, 0)\n",
        "    cv.waitKey(0)\n",
        "    cv.destroyWindow(winname)\n",
        "\n",
        "def show_wait_destroy(winname, img):\n",
        "    print (\"\\n\\n\\n\" + 'Window name\\image after the step:  ' + winname + \"\\n\\n\\n\")\n",
        "    cv2_imshow(img)"
      ],
      "metadata": {
        "id": "lpqU90joOXY5"
      },
      "execution_count": null,
      "outputs": []
    },
    {
      "cell_type": "code",
      "source": [
        "# used instead of show_wait_destroy during testing, now redundant\n",
        "\n",
        "def show_image_with_PIL(winname, img):\n",
        "  print (\"\\n\\n\\n\" + 'Window name\\image after the step:  ' + winname + \"\\n\\n\\n\")\n",
        "  image_from_pilOpen = Image.open(img)"
      ],
      "metadata": {
        "id": "7VffIdQj0Ulh"
      },
      "execution_count": null,
      "outputs": []
    },
    {
      "cell_type": "code",
      "source": [
        "def main(argv):\n",
        "    # [load_image]\n",
        "    # Check number of arguments\n",
        "    if len(argv) < 1:\n",
        "        print ('Not enough parameters')\n",
        "        print ('Usage:\\nmorph_lines_detection.py < path_to_image >')\n",
        "        return -1\n",
        "    # Load the image\n",
        "    src = cv.imread(argv[0], cv.IMREAD_COLOR)\n",
        "    # Check if image is loaded fine\n",
        "    if src is None:\n",
        "        print ('Error opening image: ' + argv[0])\n",
        "        return -1\n",
        "\n",
        "    # Show source image\n",
        "    # cv.imshow(\"src\", src)\n",
        "    print (\"\\n\\n\\n\" + 'Window name\\image after the step:  ' + \"src\" + \"\\n\\n\\n\")\n",
        "    cv2_imshow(src)\n",
        "\n",
        "    # [load_image]\n",
        "    # [gray]\n",
        "    # Transform source image to gray if it is not already\n",
        "    if len(src.shape) != 2:\n",
        "        gray = cv.cvtColor(src, cv.COLOR_BGR2GRAY)\n",
        "    else:\n",
        "        gray = src\n",
        "        \n",
        "    # Show gray image\n",
        "    show_wait_destroy(\"gray\", gray)\n",
        "    # [gray]\n",
        "    # [bin]\n",
        "    # Apply adaptiveThreshold at the bitwise_not of gray, notice the ~ symbol\n",
        "    gray = cv.bitwise_not(gray)\n",
        "    bw = cv.adaptiveThreshold(gray, 255, cv.ADAPTIVE_THRESH_MEAN_C, \\\n",
        "                                cv.THRESH_BINARY, 15, -2)\n",
        "    # Show binary image\n",
        "    show_wait_destroy(\"binary\", bw)\n",
        "    # [bin]\n",
        "    # [init]\n",
        "    # Create the images that will use to extract the horizontal and vertical lines\n",
        "    horizontal = np.copy(bw)\n",
        "    vertical = np.copy(bw)\n",
        "    # [init]\n",
        "    # [horiz]\n",
        "    # Specify size on horizontal axis\n",
        "    cols = horizontal.shape[1]\n",
        "    horizontal_size = cols // 30\n",
        "    # Create structure element for extracting horizontal lines through morphology operations\n",
        "    horizontalStructure = cv.getStructuringElement(cv.MORPH_RECT, (horizontal_size, 1))\n",
        "    # Apply morphology operations\n",
        "    horizontal = cv.erode(horizontal, horizontalStructure)\n",
        "    horizontal = cv.dilate(horizontal, horizontalStructure)\n",
        "    # Show extracted horizontal lines\n",
        "    show_wait_destroy(\"horizontal\", horizontal)\n",
        "    # [horiz]\n",
        "    # [vert]\n",
        "\n",
        "\n",
        "    '''\n",
        "\n",
        "    # Specify size on vertical axis\n",
        "    rows = vertical.shape[0]\n",
        "    verticalsize = rows // 30\n",
        "    # Create structure element for extracting vertical lines through morphology operations\n",
        "    verticalStructure = cv.getStructuringElement(cv.MORPH_RECT, (1, verticalsize))\n",
        "    # Apply morphology operations\n",
        "    vertical = cv.erode(vertical, verticalStructure)\n",
        "    vertical = cv.dilate(vertical, verticalStructure)\n",
        "    # Show extracted vertical lines\n",
        "    show_wait_destroy(\"vertical\", vertical)\n",
        "    # [vert]\n",
        "    # [smooth]\n",
        "    # Inverse vertical image\n",
        "    vertical = cv.bitwise_not(vertical)\n",
        "    show_wait_destroy(\"vertical_bit\", vertical)\n",
        "\n",
        "    '''\n",
        "\n",
        "    '''\n",
        "    Extract edges and smooth image according to the logic\n",
        "    1. extract edges\n",
        "    2. dilate(edges)\n",
        "    3. src.copyTo(smooth)\n",
        "    4. blur smooth img\n",
        "    5. smooth.copyTo(src, edges)\n",
        "    '''\n",
        "\n",
        "    horizontal = cv.bitwise_not(horizontal)\n",
        "    img_bwa = cv.bitwise_and(bw,horizontal)\n",
        "    final_img = cv.bitwise_not(img_bwa)\n",
        "    show_wait_destroy(\"final - lines removed\", final_img)\n",
        "\n",
        "    '''\n",
        "\n",
        "    # Step 1\n",
        "    edges = cv.adaptiveThreshold(vertical, 255, cv.ADAPTIVE_THRESH_MEAN_C, \\\n",
        "                                cv.THRESH_BINARY, 3, -2)\n",
        "    show_wait_destroy(\"edges\", edges)\n",
        "    # Step 2\n",
        "    kernel = np.ones((2, 2), np.uint8)\n",
        "    edges = cv.dilate(edges, kernel)\n",
        "    show_wait_destroy(\"dilate\", edges)\n",
        "    # Step 3\n",
        "    smooth = np.copy(vertical)\n",
        "    # Step 4\n",
        "    smooth = cv.blur(smooth, (2, 2))\n",
        "    # Step 5\n",
        "    (rows, cols) = np.where(edges != 0)\n",
        "    vertical[rows, cols] = smooth[rows, cols]\n",
        "    # Show final result\n",
        "    show_wait_destroy(\"smooth - final\", vertical)\n",
        "    # [smooth]\n",
        "\n",
        "    '''\n",
        "    return 0"
      ],
      "metadata": {
        "id": "yxvxbNpGObHr"
      },
      "execution_count": null,
      "outputs": []
    },
    {
      "cell_type": "code",
      "source": [
        "main(['/content/drive/MyDrive/FYP_trial_images/penguins.png'])"
      ],
      "metadata": {
        "colab": {
          "base_uri": "https://localhost:8080/",
          "height": 1000
        },
        "id": "BUUbSAldOfKN",
        "outputId": "c6954356-1865-438d-ff7a-e53524d20e5b"
      },
      "execution_count": null,
      "outputs": [
        {
          "output_type": "stream",
          "name": "stdout",
          "text": [
            "\n",
            "\n",
            "\n",
            "Window name\\image after the step:  src\n",
            "\n",
            "\n",
            "\n"
          ]
        },
        {
          "output_type": "display_data",
          "data": {
            "image/png": "[encoded data removed]",
            "text/plain": [
              "<PIL.Image.Image image mode=RGB size=306x164 at 0x7F7B6CEBB310>"
            ]
          },
          "metadata": {}
        },
        {
          "output_type": "stream",
          "name": "stdout",
          "text": [
            "\n",
            "\n",
            "\n",
            "Window name\\image after the step:  gray\n",
            "\n",
            "\n",
            "\n"
          ]
        },
        {
          "output_type": "display_data",
          "data": {
            "image/png": "[encoded data removed]",
            "text/plain": [
              "<PIL.Image.Image image mode=L size=306x164 at 0x7F7B6CEBB310>"
            ]
          },
          "metadata": {}
        },
        {
          "output_type": "stream",
          "name": "stdout",
          "text": [
            "\n",
            "\n",
            "\n",
            "Window name\\image after the step:  binary\n",
            "\n",
            "\n",
            "\n"
          ]
        },
        {
          "output_type": "display_data",
          "data": {
            "image/png": "[encoded data removed]",
            "text/plain": [
              "<PIL.Image.Image image mode=L size=306x164 at 0x7F7B6CEBBF10>"
            ]
          },
          "metadata": {}
        },
        {
          "output_type": "stream",
          "name": "stdout",
          "text": [
            "\n",
            "\n",
            "\n",
            "Window name\\image after the step:  horizontal\n",
            "\n",
            "\n",
            "\n"
          ]
        },
        {
          "output_type": "display_data",
          "data": {
            "image/png": "[encoded data removed]",
            "text/plain": [
              "<PIL.Image.Image image mode=L size=306x164 at 0x7F7B6CEBB390>"
            ]
          },
          "metadata": {}
        },
        {
          "output_type": "stream",
          "name": "stdout",
          "text": [
            "\n",
            "\n",
            "\n",
            "Window name\\image after the step:  final - lines removed\n",
            "\n",
            "\n",
            "\n"
          ]
        },
        {
          "output_type": "display_data",
          "data": {
            "image/png": "[encoded data removed]",
            "text/plain": [
              "<PIL.Image.Image image mode=L size=306x164 at 0x7F7B6CEBBED0>"
            ]
          },
          "metadata": {}
        },
        {
          "output_type": "execute_result",
          "data": {
            "text/plain": [
              "0"
            ]
          },
          "metadata": {},
          "execution_count": 9
        }
      ]
    }
  ]
}