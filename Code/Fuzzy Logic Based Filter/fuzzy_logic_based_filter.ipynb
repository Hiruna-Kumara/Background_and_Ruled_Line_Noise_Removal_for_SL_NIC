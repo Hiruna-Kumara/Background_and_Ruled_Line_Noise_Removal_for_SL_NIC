{
  "nbformat": 4,
  "nbformat_minor": 0,
  "metadata": {
    "colab": {
      "name": "fuzzy_logic_based_filter.ipynb",
      "provenance": [],
      "collapsed_sections": [
        "1CyXXFiug9Xn"
      ]
    },
    "kernelspec": {
      "name": "python3",
      "display_name": "Python 3"
    },
    "language_info": {
      "name": "python"
    }
  },
  "cells": [
    {
      "cell_type": "markdown",
      "source": [
        "##import"
      ],
      "metadata": {
        "id": "1CyXXFiug9Xn"
      }
    },
    {
      "cell_type": "code",
      "execution_count": 1,
      "metadata": {
        "id": "eabsXLlmgrwA"
      },
      "outputs": [],
      "source": [
        "import cv2\n",
        "import numpy as np\n",
        "import os\n",
        "from google.colab.patches import cv2_imshow"
      ]
    },
    {
      "cell_type": "code",
      "source": [
        "def Average(lst):\n",
        "    return sum(lst) / len(lst)\n",
        "\n",
        "from math import log10, sqrt\n",
        "  \n",
        "def PSNR(original, compressed):\n",
        "    mse = np.mean((original - compressed) ** 2)\n",
        "    if(mse == 0):  # MSE is zero means no noise is present in the signal .\n",
        "                  # Therefore PSNR have no importance.\n",
        "        return 100\n",
        "    max_pixel = 255.0\n",
        "    psnr = 20 * log10(max_pixel / sqrt(mse))\n",
        "    return psnr"
      ],
      "metadata": {
        "id": "rXs2Hzgdg6Nw"
      },
      "execution_count": 2,
      "outputs": []
    },
    {
      "cell_type": "code",
      "source": [
        "# from google.colab import drive\n",
        "# drive.mount('/content/drive')"
      ],
      "metadata": {
        "id": "C_1apHYeNGv3"
      },
      "execution_count": 3,
      "outputs": []
    },
    {
      "cell_type": "markdown",
      "source": [
        "##import_images"
      ],
      "metadata": {
        "id": "bTEdpRpIhD1G"
      }
    },
    {
      "cell_type": "code",
      "source": [
        "path_=\"/content/drive/MyDrive/NIC_Cropped/\"\n",
        "images=[]\n",
        "for i in range(100):\n",
        "  img=cv2.imread(path_+str(i)+'.jpg',0)\n",
        "  images.append(img)\n",
        "images=np.array(images)"
      ],
      "metadata": {
        "colab": {
          "base_uri": "https://localhost:8080/"
        },
        "id": "IZ4uqIw4g79I",
        "outputId": "c3e33cdd-5cb5-4920-ed2c-e9409ce0d045"
      },
      "execution_count": 10,
      "outputs": [
        {
          "output_type": "stream",
          "name": "stderr",
          "text": [
            "/usr/local/lib/python3.7/dist-packages/ipykernel_launcher.py:6: VisibleDeprecationWarning: Creating an ndarray from ragged nested sequences (which is a list-or-tuple of lists-or-tuples-or ndarrays with different lengths or shapes) is deprecated. If you meant to do this, you must specify 'dtype=object' when creating the ndarray\n",
            "  \n"
          ]
        }
      ]
    },
    {
      "cell_type": "code",
      "source": [
        "print(type(images[0]))"
      ],
      "metadata": {
        "colab": {
          "base_uri": "https://localhost:8080/"
        },
        "id": "e4I-J--vibLC",
        "outputId": "c499b626-f526-4e20-8d28-0d3802789c0f"
      },
      "execution_count": 11,
      "outputs": [
        {
          "output_type": "stream",
          "name": "stdout",
          "text": [
            "<class 'numpy.ndarray'>\n"
          ]
        }
      ]
    },
    {
      "cell_type": "markdown",
      "source": [
        "##filter_codes"
      ],
      "metadata": {
        "id": "p_DsOp2VhhoB"
      }
    },
    {
      "cell_type": "code",
      "source": [
        "def filtering(img, filter_type=2,filter_size=3):\n",
        "    kernel = np.ones(shape = (filter_size, filter_size))\n",
        "    x_shape = len(img[0]) \n",
        "    y_shape = len(img)\n",
        "\n",
        "    output = np.zeros_like(img)\n",
        "\n",
        "    padded_img =  cv2.copyMakeBorder(img, filter_size-2, filter_size-2, filter_size-2, filter_size-2, cv2.BORDER_WRAP)\n",
        "    # print(padded_img)\n",
        "    if filter_type==0:\n",
        "      for x in range(x_shape):\n",
        "          for y in range(y_shape):\n",
        "              # applying median filter\n",
        "              output[y][x] = median(conv(padded_img[  y: y + filter_size, x: x + filter_size]))\n",
        "      return output\n",
        "    elif filter_type==1:\n",
        "      for x in range(x_shape):\n",
        "          for y in range(y_shape):\n",
        "              # applying paper filter\n",
        "              output[y][x] = paper(conv(padded_img[  y: y + filter_size, x: x + filter_size]))\n",
        "\n",
        "      return output\n",
        "    elif filter_type==2:\n",
        "      for x in range(x_shape):\n",
        "          for y in range(y_shape):\n",
        "              # applying fuzzy filter\n",
        "              output[y][x] = fuzzy(conv(padded_img[  y: y + filter_size, x: x + filter_size]))\n",
        "      return output\n",
        "    elif filter_type==3:\n",
        "      for x in range(x_shape):\n",
        "          for y in range(y_shape):\n",
        "              # applying median_changed filter\n",
        "              output[y][x] = median_changed(conv(padded_img[  y: y + filter_size, x: x + filter_size]))\n",
        "      return output\n",
        "    else:\n",
        "      print(\"error\")\n",
        "      return img\n",
        "\n",
        "\n",
        "\n",
        "def median(lst):\n",
        "    sortedLst = sorted(lst)\n",
        "    return sortedLst[len(lst)//2]\n",
        "\n",
        "def paper(lst):\n",
        "    sortedList = sorted(lst)\n",
        "    L2=[]\n",
        "\n",
        "    minn=sortedList[0]\n",
        "    maxx=sortedList[-1]\n",
        "    avg=sum(sortedList)/9\n",
        "    median_=sortedList[4]\n",
        "    for I in sortedList:\n",
        "      if I==maxx or I==minn:\n",
        "        L2.append(0)\n",
        "      elif I==avg:\n",
        "        L2.append(1)\n",
        "      elif I<avg:\n",
        "        L2.append((I-minn)/(avg-minn))\n",
        "      else:\n",
        "        L2.append((maxx-I)/(maxx-avg))\n",
        "\n",
        "    fuzzy_out=sortedList[L2.index(max(L2))]\n",
        "\n",
        "    return fuzzy_out\n",
        "\n",
        "def fuzzy(lst):\n",
        "    sortedLst = sorted(lst)\n",
        "\n",
        "    for i in range(2):\n",
        "      z=sortedLst[len(sortedLst)//2]\n",
        "      for i in range(2):\n",
        "        x=sortedLst[0]\n",
        "        y=sortedLst[-1]\n",
        "        if (z-x)>(y-z):\n",
        "          sortedLst.remove(x)\n",
        "        else:\n",
        "          sortedLst.remove(y)\n",
        "\n",
        "    return sortedLst[2]\n",
        "\n",
        "def median_changed(lst):\n",
        "    sortedLst = sorted(lst)\n",
        "    lstLen = len(lst)\n",
        "    index = (lstLen - 1) // 2\n",
        "    x=(sortedLst[index]-sortedLst[index-1])\n",
        "    y=sortedLst[index+1]-sortedLst[index]\n",
        "    if x<y:\n",
        "      return sortedLst[index]-x/2\n",
        "    return sortedLst[index]+y/2\n",
        "\n",
        "def conv(lst):\n",
        "    result = []\n",
        "    for i in range(len(lst)):\n",
        "        for j in range(len(lst[0])):\n",
        "            result.append(lst[i][j])\n",
        "    return result"
      ],
      "metadata": {
        "id": "7XFIyjaquB8J"
      },
      "execution_count": 12,
      "outputs": []
    },
    {
      "cell_type": "markdown",
      "source": [
        "##images_reshape"
      ],
      "metadata": {
        "id": "ZObTfgHxPJuq"
      }
    },
    {
      "cell_type": "code",
      "source": [
        "images_reshaped=[]\n",
        "for i in images:\n",
        "  x=i.shape[0]\n",
        "  y=i.shape[1]\n",
        "  if x>y:\n",
        "    images_reshaped.append(cv2.resize(i,(300,400)))\n",
        "  else:\n",
        "    images_reshaped.append(cv2.resize(i,(400,300)))"
      ],
      "metadata": {
        "id": "F5HBpFN1PLsL"
      },
      "execution_count": 14,
      "outputs": []
    },
    {
      "cell_type": "markdown",
      "source": [
        "##testing_filters\n"
      ],
      "metadata": {
        "id": "b-ieih3pQ1rF"
      }
    },
    {
      "cell_type": "code",
      "source": [
        "psnrs=[]\n",
        "for img in images_reshaped:\n",
        "  filtered_image=filtering(img,filter_type=2)\n",
        "  psnr=PSNR(img,filtered_image)\n",
        "  psnrs.append(psnr)\n",
        "print(Average(psnrs))"
      ],
      "metadata": {
        "id": "D6rAskxFjBJH",
        "colab": {
          "base_uri": "https://localhost:8080/"
        },
        "outputId": "6e12bf7e-a90d-46ae-e1a4-08faa835ae77"
      },
      "execution_count": 15,
      "outputs": [
        {
          "output_type": "stream",
          "name": "stdout",
          "text": [
            "37.03725566194823\n"
          ]
        }
      ]
    }
  ]
}